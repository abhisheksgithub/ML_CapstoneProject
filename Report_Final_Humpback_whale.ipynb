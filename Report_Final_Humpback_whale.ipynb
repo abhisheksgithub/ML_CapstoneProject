{
  "nbformat": 4,
  "nbformat_minor": 0,
  "metadata": {
    "colab": {
      "name": "Report_Final_Humpback_whale.ipynb",
      "version": "0.3.2",
      "provenance": [],
      "collapsed_sections": []
    },
    "kernelspec": {
      "name": "python3",
      "display_name": "Python 3"
    },
    "accelerator": "GPU"
  },
  "cells": [
    {
      "metadata": {
        "id": "qslTUaHlud4N",
        "colab_type": "text"
      },
      "cell_type": "markdown",
      "source": [
        "# **Humpback whale tail based classification **\n",
        "\n",
        "Since the data preprocessing/deep learning algorithm (CNN) requires a GPU for its execution, this project is done on Google Colab. The image files are initially uploaded into google drive (both test/train images). This is done since it would be easily accessible through colab by importing the google.colab library. \n",
        "\n",
        "**Google drive access**\n",
        "---\n",
        "\n",
        "\n",
        "\n",
        "The drive corresponding to the image folder needs an authorization to be given initally, before colab can access the same. "
      ]
    },
    {
      "metadata": {
        "id": "LwUuXFROxgna",
        "colab_type": "code",
        "outputId": "a743fac0-fa57-4263-ced0-d1fdd0500f5c",
        "colab": {
          "base_uri": "https://localhost:8080/",
          "height": 123
        }
      },
      "cell_type": "code",
      "source": [
        "from google.colab import drive\n",
        "drive.mount('/content/Drive', force_remount = True)"
      ],
      "execution_count": 0,
      "outputs": [
        {
          "output_type": "stream",
          "text": [
            "Go to this URL in a browser: https://accounts.google.com/o/oauth2/auth?client_id=947318989803-6bn6qk8qdgf4n4g3pfee6491hc0brc4i.apps.googleusercontent.com&redirect_uri=urn%3Aietf%3Awg%3Aoauth%3A2.0%3Aoob&scope=email%20https%3A%2F%2Fwww.googleapis.com%2Fauth%2Fdocs.test%20https%3A%2F%2Fwww.googleapis.com%2Fauth%2Fdrive%20https%3A%2F%2Fwww.googleapis.com%2Fauth%2Fdrive.photos.readonly%20https%3A%2F%2Fwww.googleapis.com%2Fauth%2Fpeopleapi.readonly&response_type=code\n",
            "\n",
            "Enter your authorization code:\n",
            "··········\n",
            "Mounted at /content/Drive\n"
          ],
          "name": "stdout"
        }
      ]
    },
    {
      "metadata": {
        "id": "J4-SVBnxwfly",
        "colab_type": "text"
      },
      "cell_type": "markdown",
      "source": [
        "**Exploratory Visualization**\n",
        "---\n",
        "\n",
        "The below graphical representation highlights the number of sample images available for different whale species. Below points can be inferred from the graphs/diagram. \n",
        "\n",
        "\n",
        "\n",
        "*   There are almost 10K 'new_whale' labels. These are the images without a predefined label. This would need to be removed before training.\n",
        "*   There are also a lot of unequality between labels as there are few labels that have only 1 sample image rather few others have more than 70 samples. \n",
        "\n",
        "\n",
        "\n",
        "\n",
        "\n"
      ]
    },
    {
      "metadata": {
        "id": "vPBe2azpyhjE",
        "colab_type": "code",
        "outputId": "97eb07ff-eda3-4a1a-9192-9aa72bfd7516",
        "colab": {
          "base_uri": "https://localhost:8080/",
          "height": 224
        }
      },
      "cell_type": "code",
      "source": [
        "import pandas as pd\n",
        "from os import listdir\n",
        "from os.path import isfile, join\n",
        "\n",
        "base_path = r'/content/Drive/My Drive/MachineLearningData/Kaggle_whale_tail/'\n",
        "\n",
        "train_illustration = pd.read_csv(base_path + 'train.csv')\n",
        "train_groupdata = train_illustration.groupby('Id').Image.nunique()\n",
        "# len(xl[xl.Id != 'new_whale'])\n",
        "# Print the initial 10 whale labels. It is pretty obvious that there are almost 10K new_whale labels. These are the uncategorized whale species. \n",
        "print(train_groupdata[:10])\n"
      ],
      "execution_count": 0,
      "outputs": [
        {
          "output_type": "stream",
          "text": [
            "Id\n",
            "new_whale    9664\n",
            "w_0003639       1\n",
            "w_0003c59       1\n",
            "w_0027efa      10\n",
            "w_00289b1       2\n",
            "w_002c810       1\n",
            "w_0032a46       1\n",
            "w_003bae6       8\n",
            "w_00656c0       2\n",
            "w_0066399       1\n",
            "Name: Image, dtype: int64\n"
          ],
          "name": "stdout"
        }
      ]
    },
    {
      "metadata": {
        "id": "-oQE8lu81w93",
        "colab_type": "text"
      },
      "cell_type": "markdown",
      "source": [
        "There are obviously more new_whale categories than any other. "
      ]
    },
    {
      "metadata": {
        "id": "60qFX1he0-7B",
        "colab_type": "code",
        "outputId": "442aa4d3-37e8-4b3f-9c64-d4be4428522f",
        "colab": {
          "base_uri": "https://localhost:8080/",
          "height": 440
        }
      },
      "cell_type": "code",
      "source": [
        "train_groupdata.sort_values(ascending=False).head().plot.bar()"
      ],
      "execution_count": 0,
      "outputs": [
        {
          "output_type": "execute_result",
          "data": {
            "text/plain": [
              "<matplotlib.axes._subplots.AxesSubplot at 0x7f800bbdb3c8>"
            ]
          },
          "metadata": {
            "tags": []
          },
          "execution_count": 3
        },
        {
          "output_type": "display_data",
          "data": {
            "image/png": "[encoded data removed]",
            "text/plain": [
              "<Figure size 576x396 with 1 Axes>"
            ]
          },
          "metadata": {
            "tags": []
          }
        }
      ]
    },
    {
      "metadata": {
        "id": "Dt-TD0sB3Mkz",
        "colab_type": "text"
      },
      "cell_type": "markdown",
      "source": [
        "Now let us drop the label 'new_whale'. We can notice that there are few labels with data samples as high as 70 and for a few its as low as 1 sample. "
      ]
    },
    {
      "metadata": {
        "id": "Ft3RBxN33Ll_",
        "colab_type": "code",
        "outputId": "7e6b4300-00de-44ac-dad7-deeeb78ce098",
        "colab": {
          "base_uri": "https://localhost:8080/",
          "height": 440
        }
      },
      "cell_type": "code",
      "source": [
        "train_groupdata = train_groupdata.drop('new_whale')\n",
        "train_groupdata.sort_values(ascending=False).head().plot.bar()"
      ],
      "execution_count": 0,
      "outputs": [
        {
          "output_type": "execute_result",
          "data": {
            "text/plain": [
              "<matplotlib.axes._subplots.AxesSubplot at 0x7f800bb39a90>"
            ]
          },
          "metadata": {
            "tags": []
          },
          "execution_count": 4
        },
        {
          "output_type": "display_data",
          "data": {
            "image/png": "[encoded data removed]",
            "text/plain": [
              "<Figure size 576x396 with 1 Axes>"
            ]
          },
          "metadata": {
            "tags": []
          }
        }
      ]
    },
    {
      "metadata": {
        "id": "d7EZXRFU4D15",
        "colab_type": "code",
        "outputId": "fa0fb3fa-11e0-4a40-8b87-1d2c19fa464e",
        "colab": {
          "base_uri": "https://localhost:8080/",
          "height": 440
        }
      },
      "cell_type": "code",
      "source": [
        "train_groupdata.sort_values(ascending=False).iloc[0:30].plot.bar()"
      ],
      "execution_count": 0,
      "outputs": [
        {
          "output_type": "execute_result",
          "data": {
            "text/plain": [
              "<matplotlib.axes._subplots.AxesSubplot at 0x7f8009a99080>"
            ]
          },
          "metadata": {
            "tags": []
          },
          "execution_count": 5
        },
        {
          "output_type": "display_data",
          "data": {
            "image/png": "[encoded data removed]",
            "text/plain": [
              "<Figure size 576x396 with 1 Axes>"
            ]
          },
          "metadata": {
            "tags": []
          }
        }
      ]
    },
    {
      "metadata": {
        "id": "YKJI12IxW3_F",
        "colab_type": "code",
        "outputId": "f4cd869a-eeba-4e94-83c4-0d711b302725",
        "colab": {
          "base_uri": "https://localhost:8080/",
          "height": 86
        }
      },
      "cell_type": "code",
      "source": [
        "train_groupdata[train_groupdata.sort_values(ascending=True) < 5].sort_values(ascending=False)\n",
        "print('Total no of 1 : ', len(train_groupdata[train_groupdata.sort_values(ascending=True) == 1 ]))\n",
        "print('Total no of 2 : ', len(train_groupdata[train_groupdata.sort_values(ascending=True) == 2 ]))\n",
        "print('Total no of 3 : ', len(train_groupdata[train_groupdata.sort_values(ascending=True) == 3 ]))\n",
        "print('Total no of 4 : ', len(train_groupdata[train_groupdata.sort_values(ascending=True) == 4 ]))\n",
        "labels_greater_than_two = { x: 0 for x in train_groupdata[train_groupdata.sort_values(ascending=True) > 2].index.tolist()}\n",
        "labels_equal_two = { x: 0 for x in train_groupdata[train_groupdata.sort_values(ascending=True) == 2].index.tolist()}\n",
        "labels_equal_one = { x: 0 for x in train_groupdata[train_groupdata.sort_values(ascending=True) == 1].index.tolist()}\n",
        "\n"
      ],
      "execution_count": 0,
      "outputs": [
        {
          "output_type": "stream",
          "text": [
            "Total no of 1 :  2073\n",
            "Total no of 2 :  1285\n",
            "Total no of 3 :  568\n",
            "Total no of 4 :  273\n"
          ],
          "name": "stdout"
        }
      ]
    },
    {
      "metadata": {
        "id": "J9_XAeV8-QIM",
        "colab_type": "text"
      },
      "cell_type": "markdown",
      "source": [
        "# Data Augmentation\n",
        "To introduce a bit of equal distribution between the various labels the labels with fewer samples are passed throught the augmentation pipleline where the image vector would be rotated, zoomed, sheared or even flipped horizontally."
      ]
    },
    {
      "metadata": {
        "id": "66f_Ntuz4qHU",
        "colab_type": "code",
        "colab": {}
      },
      "cell_type": "code",
      "source": [
        "import sys\n",
        "from collections import Counter\n",
        "import random\n",
        "import itertools\n",
        "\n",
        "import matplotlib.pyplot as plt\n",
        "import pandas as pd\n",
        "import numpy as np\n",
        "from PIL import Image\n",
        "import skimage.filters\n",
        "\n",
        "\n",
        "from sklearn.model_selection import train_test_split\n",
        "\n",
        "from keras.preprocessing.image import (\n",
        "    random_rotation, random_shift, random_shear, random_zoom,\n",
        "    random_channel_shift, img_to_array)\n",
        "\n",
        "%matplotlib inline"
      ],
      "execution_count": 0,
      "outputs": []
    },
    {
      "metadata": {
        "id": "ID6gJkD34sQW",
        "colab_type": "code",
        "colab": {}
      },
      "cell_type": "code",
      "source": [
        "def plot_image(imgs, labels, rows):\n",
        "  figure = plt.figure(figsize = (13, 8))\n",
        "  cols = len(imgs) // rows + 1\n",
        "  \n",
        "  for i in range(len(imgs)):\n",
        "    subplot = figure.add_subplot(rows, cols, i+1)\n",
        "    subplot.axis('Off')\n",
        "    if labels:\n",
        "      subplot.set_title(labels[i], fontsize=16)\n",
        "    plt.imshow(imgs[i], cmap='gray')\n",
        "\n",
        "def random_greyscale(img, p):\n",
        "    if len(img.shape) == 2 or img.shape[2] == 1:\n",
        "        return np.repeat(img[:, :, np.newaxis], 3, axis=2)\n",
        "    \n",
        "    if random.random() < p:\n",
        "        return np.dot(img[...,:3], [0.299, 0.587, 0.114])\n",
        "    return img\n",
        "\n",
        "def random_flip(img, p):\n",
        "    if random.random() < p:\n",
        "        return np.flip(img, 1)\n",
        "    return img\n",
        "\n",
        "def random_blur(img, p, sigma=1.37):\n",
        "    if random.random() < p:\n",
        "        return skimage.filters.gaussian(img / 255.0, sigma=sigma, multichannel=len(img.shape) == 3) * 255\n",
        "    return img\n",
        "\n",
        "def augmentation_pipeline(img_arr):\n",
        "    img_arr = random_rotation(img_arr, 18, row_axis=0, col_axis=1, channel_axis=2, fill_mode='nearest')\n",
        "    img_arr = random_shear(img_arr, intensity=0.4, row_axis=0, col_axis=1, channel_axis=2, fill_mode='nearest')\n",
        "    img_arr = random_zoom(img_arr, zoom_range=(0.7, 1.4), row_axis=0, col_axis=1, channel_axis=2, fill_mode='nearest') # we do not want to zoom out, as the net may learn the artifacts caused by the filled areas.\n",
        "    # img_arr = random_greyscale(img_arr, 0.2)\n",
        "    # img_arr = random_blur(img_arr, 0.33)\n",
        "    img_arr = random_flip(img_arr, 0.5)\n",
        "    return np.expand_dims(img_arr, axis = 0)\n"
      ],
      "execution_count": 0,
      "outputs": []
    },
    {
      "metadata": {
        "id": "DVst2xWk_FQu",
        "colab_type": "text"
      },
      "cell_type": "markdown",
      "source": [
        "Each of the image would be reduced to a size of (160, 120). These are then augmented and trained."
      ]
    },
    {
      "metadata": {
        "id": "QzGblIPfSa8D",
        "colab_type": "code",
        "colab": {}
      },
      "cell_type": "code",
      "source": [
        "image_size = (160,120) # width, height\n",
        "no_of_augmentation = 0\n",
        "path = r'/content/Drive/My Drive/MachineLearningData/Kaggle_whale_tail/train/'            \n",
        "def loadImageAndAugument(imgPath, label, imageSize = image_size, numOfAugumentations = no_of_augmentation ):\n",
        "    \n",
        "    if label in labels_greater_than_two:\n",
        "      if labels_greater_than_two[label] > 3:\n",
        "        return []\n",
        "      else:\n",
        "        numOfAugumentations = 0\n",
        "        labels_greater_than_two[label] += 1\n",
        "    elif label in labels_equal_two:\n",
        "      numOfAugumentations = 1\n",
        "    else:\n",
        "      numOfAugumentations = 4\n",
        "    imgPath = path + imgPath\n",
        "    inputImage = Image.open(imgPath).resize(imageSize).convert('RGB')\n",
        "    result = []\n",
        "    inputImageArray = img_to_array(inputImage)\n",
        "    result.append(np.asarray([inputImageArray / 255]))\n",
        "    for i in range(numOfAugumentations):\n",
        "        result.append(augmentation_pipeline(inputImageArray) / 255)\n",
        "    return result\n",
        "\n",
        "def loadImageValidation(imgPath, imageSize = image_size, numOfAugumentations = no_of_augmentation):\n",
        "    imgPath = path + imgPath\n",
        "    inputImage = Image.open(imgPath).resize(imageSize).convert('RGB')\n",
        "    inputImageArray = img_to_array(inputImage)\n",
        "    result = []\n",
        "    result.append(np.asarray([inputImageArray / 255]))\n",
        "    return result\n",
        "  \n",
        "def loadBatchValidation(imagePaths, labels, startIdx=0, numOfImages=None):\n",
        "    if numOfImages is None:\n",
        "        numOfImages = int(imagePaths.count() - startIdx)\n",
        "    loadedLabels = []\n",
        "    loadedImages = []\n",
        "    for index, imgPath in itertools.islice(imagePaths.iteritems(), startIdx, min(startIdx+numOfImages, imagePaths.count())):\n",
        "        # print(index, imgPath)\n",
        "        imgArrays = loadImageValidation(imgPath)\n",
        "        for img in imgArrays:\n",
        "            loadedLabels.append(labels[index])\n",
        "            loadedImages.append(img)\n",
        "    return (loadedImages, loadedLabels)\n",
        "  \n",
        "def loadBatch(imagePaths, labels, startIdx=0, numOfImages=None, toggle = None):\n",
        "    if numOfImages is None:\n",
        "        numOfImages = int(imagePaths.count() - startIdx)\n",
        "    if toggle is not None:\n",
        "      if(toggle%2 == 0): \n",
        "        no_of_augmentation = 1\n",
        "      else: \n",
        "        no_of_augmentation = 0\n",
        "    loadedLabels = []\n",
        "    loadedImages = []\n",
        "    for index, imgPath in itertools.islice(imagePaths.iteritems(), startIdx, min(startIdx+numOfImages, imagePaths.count())):\n",
        "        # print(index, imgPath)\n",
        "        imgArrays = loadImageAndAugument(imgPath,  label = labels[index], numOfAugumentations= no_of_augmentation)\n",
        "        for img in imgArrays:\n",
        "            loadedLabels.append(labels[index])\n",
        "            loadedImages.append(img)\n",
        "    return (loadedImages, loadedLabels)\n",
        "\n",
        "def laodAndPrepareDataset(datasetPath, train_size=0.8, random_state=None):\n",
        "    if random_state is None:\n",
        "        random_state = random.randrange(2**32 - 1)\n",
        "    # load data to Panda DataFrame\n",
        "    train_df = pd.read_csv(datasetPath)\n",
        "    train_df = train_df[train_df.Id != 'new_whale']\n",
        "    # Make things unique\n",
        "    return train_test_split(train_df['Image'], \n",
        "                             train_df['Id'],\n",
        "                             train_size=train_size, \n",
        "                             test_size=1.0 - train_size,\n",
        "                             random_state=random_state)"
      ],
      "execution_count": 0,
      "outputs": []
    },
    {
      "metadata": {
        "id": "G-SaVmWTABEX",
        "colab_type": "text"
      },
      "cell_type": "markdown",
      "source": [
        "# Image Extraction "
      ]
    },
    {
      "metadata": {
        "id": "ZBhKKOWU_dHq",
        "colab_type": "text"
      },
      "cell_type": "markdown",
      "source": [
        "The training data set and the validation dataset are split are split in the ratio of 4:1. They are extracted from the train.csv file."
      ]
    },
    {
      "metadata": {
        "id": "DKWLe5eN18yA",
        "colab_type": "code",
        "colab": {}
      },
      "cell_type": "code",
      "source": [
        "x_train_path, x_valid_path, x_train_label, y_valid_label = laodAndPrepareDataset(r'/content/Drive/My Drive/MachineLearningData/Kaggle_whale_tail/train.csv')"
      ],
      "execution_count": 0,
      "outputs": []
    },
    {
      "metadata": {
        "id": "rugHzCFuiaxX",
        "colab_type": "code",
        "colab": {}
      },
      "cell_type": "code",
      "source": [
        "import os\n",
        "\n",
        "class train_stag:\n",
        "  def __init__(self):\n",
        "    self.train_staging_img = []\n",
        "    self.train_staging_lab = []\n",
        "  def __enter__(self):\n",
        "    return self\n",
        "  def __exit__(self, type, value, traceback):\n",
        "    pass"
      ],
      "execution_count": 0,
      "outputs": []
    },
    {
      "metadata": {
        "id": "zn01nQWuFZBX",
        "colab_type": "code",
        "outputId": "6d8cc05f-533b-4414-b396-4bcd4344d1ca",
        "colab": {
          "base_uri": "https://localhost:8080/",
          "height": 241
        }
      },
      "cell_type": "code",
      "source": [
        "labels_greater_than_two = { x: 0 for x in train_groupdata[train_groupdata.sort_values(ascending=True) > 2].index.tolist()}\n",
        "labels_equal_two = { x: 0 for x in train_groupdata[train_groupdata.sort_values(ascending=True) == 2].index.tolist()}\n",
        "labels_equal_one = { x: 0 for x in train_groupdata[train_groupdata.sort_values(ascending=True) == 1].index.tolist()}\n",
        "\n",
        "from datetime import datetime\n",
        "tstart = datetime.now()\n",
        "\n",
        "train_aug_img_final = []\n",
        "train_aug_val_final = []\n",
        "\n",
        "with train_stag() as ml:\n",
        "  for i in range(0, 126):\n",
        "    idx = int(i*100)\n",
        "    train_aug_img_temp = None\n",
        "    train_aug_lab_temp = None\n",
        "    if(i!=125):\n",
        "      train_aug_img_temp, train_aug_lab_temp = loadBatch(x_train_path, x_train_label, idx, 100, i)\n",
        "    else:\n",
        "      train_aug_img_temp, train_aug_lab_temp = loadBatch(x_train_path, x_train_label, idx, None, i)\n",
        "    if len(train_aug_lab_temp):\n",
        "      ml.train_staging_img += train_aug_img_temp\n",
        "      ml.train_staging_lab += train_aug_lab_temp\n",
        "    \n",
        "    if((i+1)%10 == 0):\n",
        "      print(i+1, 'Batch Done', len(ml.train_staging_img))\n",
        "  train_aug_img_final = np.vstack(ml.train_staging_img)\n",
        "  train_aug_val_final = ml.train_staging_lab\n",
        "\n",
        "tend = datetime.now()\n",
        "print('Time Taken to retrieve data', tend - tstart)"
      ],
      "execution_count": 0,
      "outputs": [
        {
          "output_type": "stream",
          "text": [
            "10 Batch Done 1773\n",
            "20 Batch Done 3415\n",
            "30 Batch Done 4960\n",
            "40 Batch Done 6432\n",
            "50 Batch Done 7912\n",
            "60 Batch Done 9316\n",
            "70 Batch Done 10723\n",
            "80 Batch Done 12028\n",
            "90 Batch Done 13362\n",
            "100 Batch Done 14722\n",
            "110 Batch Done 15970\n",
            "120 Batch Done 17160\n",
            "Time Taken to retrieve data 0:42:54.399960\n"
          ],
          "name": "stdout"
        }
      ]
    },
    {
      "metadata": {
        "id": "46xVWszk7j3D",
        "colab_type": "code",
        "outputId": "78c91601-d056-4515-bbbd-6aa17515e802",
        "colab": {
          "base_uri": "https://localhost:8080/",
          "height": 106
        }
      },
      "cell_type": "code",
      "source": [
        "print('No of training data samples before data augmentation :', len(x_train_path), '\\n', 'No of Validation data samples before data augmentation:', len(x_valid_path))\n",
        "print('No of training data samples after data augmentation :', len(train_aug_val_final))\n",
        "print('Shape of the training vector :', train_aug_img_final.shape)"
      ],
      "execution_count": 0,
      "outputs": [
        {
          "output_type": "stream",
          "text": [
            "No of training data samples before data augmentation : 12557 \n",
            " No of Validation data samples before data augmentation: 3140\n",
            "No of training data samples after data augmentation : 17769\n",
            "Shape of the training vector : (17769, 120, 160, 3)\n"
          ],
          "name": "stdout"
        }
      ]
    },
    {
      "metadata": {
        "id": "_7PV4fNrm-Lh",
        "colab_type": "code",
        "outputId": "6d1a67cc-1534-414f-9512-3a043547f30e",
        "colab": {
          "base_uri": "https://localhost:8080/",
          "height": 86
        }
      },
      "cell_type": "code",
      "source": [
        "# Validation data\n",
        "tstart = datetime.now()\n",
        "train_val_img_final = []\n",
        "train_val_lab_final = []\n",
        "with train_stag() as ml_valid:\n",
        "  for i in range(0, 32):\n",
        "    train_val_img_stag = []\n",
        "    train_val_lab_stag = []\n",
        "    if(i != 31):\n",
        "      train_val_img_stag, train_val_lab_stag = loadBatchValidation(x_valid_path, y_valid_label,int(i*100), 100)\n",
        "    else:\n",
        "      train_val_img_stag, train_val_lab_stag = loadBatchValidation(x_valid_path, y_valid_label,int(i*100), None)\n",
        "    ml_valid.train_staging_img += train_val_img_stag\n",
        "    ml_valid.train_staging_lab += train_val_lab_stag\n",
        "    if((i+1)%10 == 0):\n",
        "      print(i+1, 'Validation Batch Done!', 'Batch size', len(ml_valid.train_staging_img))\n",
        "  train_val_img_final = np.vstack(ml_valid.train_staging_img)\n",
        "  train_val_lab_final = ml_valid.train_staging_lab\n",
        "\n",
        "tend = datetime.now()\n",
        "print('Time Taken to retrieve data', tend - tstart)"
      ],
      "execution_count": 0,
      "outputs": [
        {
          "output_type": "stream",
          "text": [
            "10 Validation Batch Done! Batch size 1000\n",
            "20 Validation Batch Done! Batch size 2000\n",
            "30 Validation Batch Done! Batch size 3000\n",
            "Time Taken to retrieve data 0:15:42.702954\n"
          ],
          "name": "stdout"
        }
      ]
    },
    {
      "metadata": {
        "id": "YB1TcmRBMIb-",
        "colab_type": "code",
        "outputId": "1b23ab80-628c-4321-e6c6-da8235303428",
        "colab": {
          "base_uri": "https://localhost:8080/",
          "height": 71
        }
      },
      "cell_type": "code",
      "source": [
        "print('No of validation data samples after data augmentation :', len(train_val_img_final))\n",
        "print('Shape of the training vector :', train_val_img_final.shape)"
      ],
      "execution_count": 0,
      "outputs": [
        {
          "output_type": "stream",
          "text": [
            "No of validation data samples after data augmentation : 3140\n",
            "Shape of the training vector : (3140, 120, 160, 3)\n"
          ],
          "name": "stdout"
        }
      ]
    },
    {
      "metadata": {
        "id": "9MMRbZNsNg1o",
        "colab_type": "code",
        "colab": {}
      },
      "cell_type": "code",
      "source": [
        "# appending both val and train labels to gen the one-hot encoding\n",
        "tot_train_dummy = train_aug_val_final + train_val_lab_final\n",
        "train_dummy_final = pd.get_dummies(pd.Series(tot_train_dummy)).values[:len(train_aug_val_final)]\n",
        "validation_dummy_final = pd.get_dummies(pd.Series(tot_train_dummy)).values[len(train_aug_val_final):]"
      ],
      "execution_count": 0,
      "outputs": []
    },
    {
      "metadata": {
        "id": "Hk9ZMcxCl6oT",
        "colab_type": "code",
        "outputId": "fa6dd40f-5f16-4709-f941-010f08f06222",
        "colab": {
          "base_uri": "https://localhost:8080/",
          "height": 34
        }
      },
      "cell_type": "code",
      "source": [
        "print('Total unique labels', len(set(tot_train_dummy)))"
      ],
      "execution_count": 0,
      "outputs": [
        {
          "output_type": "stream",
          "text": [
            "Total unique labels 5004\n"
          ],
          "name": "stdout"
        }
      ]
    },
    {
      "metadata": {
        "id": "--Iuz-zYBNu9",
        "colab_type": "text"
      },
      "cell_type": "markdown",
      "source": [
        "# Model Training"
      ]
    },
    {
      "metadata": {
        "id": "iSyO6Kgoe6Fp",
        "colab_type": "text"
      },
      "cell_type": "markdown",
      "source": [
        "The pretrained VGG16 model is first loaded to ensure that we are using transfer learning to train our model.\n"
      ]
    },
    {
      "metadata": {
        "id": "tSu0GDz7jojf",
        "colab_type": "code",
        "outputId": "a8ac44f2-f60c-49be-c55a-d0463696a975",
        "colab": {
          "base_uri": "https://localhost:8080/",
          "height": 900
        }
      },
      "cell_type": "code",
      "source": [
        "from keras import applications\n",
        "from keras.layers import Conv2D, MaxPooling2D, GlobalAveragePooling2D\n",
        "from keras.layers import Dropout, Flatten, Dense\n",
        "from keras import optimizers\n",
        "\n",
        "vgg_model = applications.VGG16(weights='imagenet',\n",
        "                               include_top=False,\n",
        "                               input_shape=(120, 160, 3))\n",
        "\n",
        "layer_dict = dict([(layer.name, layer) for layer in vgg_model.layers])\n",
        "\n",
        "# Getting output tensor of the last VGG layer that we want to include\n",
        "x = layer_dict['block4_pool'].output\n",
        "\n",
        "\n",
        "# Stacking a new simple convolutional network on top of it    \n",
        "x = Conv2D(filters=64, kernel_size=(3, 3), activation='relu')(x)\n",
        "x = MaxPooling2D(pool_size=(2, 2))(x)\n",
        "x = Flatten()(x)\n",
        "x = Dense(1024, activation='relu')(x)\n",
        "x = Dropout(0.4)(x)\n",
        "x = Dense(train_dummy_final.shape[1], activation='softmax')(x)\n",
        "\n",
        "\n",
        "from keras.models import Model\n",
        "custom_model = Model(input=vgg_model.input, output=x)\n",
        "\n",
        "# Make sure that the pre-trained bottom layers are not trainable\n",
        "for layer in custom_model.layers[:8]:                               \n",
        "    layer.trainable = True\n",
        "\n",
        "for layer in custom_model.layers[8:15]:                               \n",
        "    layer.trainable = False\n",
        "\n",
        "# Do not forget to compile it.. change it back to rmsprop\n",
        "sgd = optimizers.SGD(lr=0.001, decay=1e-6, momentum=0.9, nesterov=True)\n",
        "adm = optimizers.Adam(lr=0.001, beta_1=0.9, beta_2=0.999, epsilon=None, decay=0.0, amsgrad=False)\n",
        "custom_model.compile(loss='categorical_crossentropy',\n",
        "                     optimizer=sgd,\n",
        "                     metrics=['accuracy'])\n",
        "\n",
        "custom_model.summary()"
      ],
      "execution_count": 0,
      "outputs": [
        {
          "output_type": "stream",
          "text": [
            "_________________________________________________________________\n",
            "Layer (type)                 Output Shape              Param #   \n",
            "=================================================================\n",
            "input_2 (InputLayer)         (None, 120, 160, 3)       0         \n",
            "_________________________________________________________________\n",
            "block1_conv1 (Conv2D)        (None, 120, 160, 64)      1792      \n",
            "_________________________________________________________________\n",
            "block1_conv2 (Conv2D)        (None, 120, 160, 64)      36928     \n",
            "_________________________________________________________________\n",
            "block1_pool (MaxPooling2D)   (None, 60, 80, 64)        0         \n",
            "_________________________________________________________________\n",
            "block2_conv1 (Conv2D)        (None, 60, 80, 128)       73856     \n",
            "_________________________________________________________________\n",
            "block2_conv2 (Conv2D)        (None, 60, 80, 128)       147584    \n",
            "_________________________________________________________________\n",
            "block2_pool (MaxPooling2D)   (None, 30, 40, 128)       0         \n",
            "_________________________________________________________________\n",
            "block3_conv1 (Conv2D)        (None, 30, 40, 256)       295168    \n",
            "_________________________________________________________________\n",
            "block3_conv2 (Conv2D)        (None, 30, 40, 256)       590080    \n",
            "_________________________________________________________________\n",
            "block3_conv3 (Conv2D)        (None, 30, 40, 256)       590080    \n",
            "_________________________________________________________________\n",
            "block3_pool (MaxPooling2D)   (None, 15, 20, 256)       0         \n",
            "_________________________________________________________________\n",
            "block4_conv1 (Conv2D)        (None, 15, 20, 512)       1180160   \n",
            "_________________________________________________________________\n",
            "block4_conv2 (Conv2D)        (None, 15, 20, 512)       2359808   \n",
            "_________________________________________________________________\n",
            "block4_conv3 (Conv2D)        (None, 15, 20, 512)       2359808   \n",
            "_________________________________________________________________\n",
            "block4_pool (MaxPooling2D)   (None, 7, 10, 512)        0         \n",
            "_________________________________________________________________\n",
            "conv2d_2 (Conv2D)            (None, 5, 8, 64)          294976    \n",
            "_________________________________________________________________\n",
            "max_pooling2d_2 (MaxPooling2 (None, 2, 4, 64)          0         \n",
            "_________________________________________________________________\n",
            "flatten_2 (Flatten)          (None, 512)               0         \n",
            "_________________________________________________________________\n",
            "dense_3 (Dense)              (None, 1024)              525312    \n",
            "_________________________________________________________________\n",
            "dropout_2 (Dropout)          (None, 1024)              0         \n",
            "_________________________________________________________________\n",
            "dense_4 (Dense)              (None, 5004)              5129100   \n",
            "=================================================================\n",
            "Total params: 13,584,652\n",
            "Trainable params: 6,504,716\n",
            "Non-trainable params: 7,079,936\n",
            "_________________________________________________________________\n"
          ],
          "name": "stdout"
        },
        {
          "output_type": "stream",
          "text": [
            "/usr/local/lib/python3.6/dist-packages/ipykernel_launcher.py:26: UserWarning: Update your `Model` call to the Keras 2 API: `Model(inputs=Tensor(\"in..., outputs=Tensor(\"de...)`\n"
          ],
          "name": "stderr"
        }
      ]
    },
    {
      "metadata": {
        "id": "q3CQ7a_T-LDs",
        "colab_type": "code",
        "outputId": "c73bf683-f4fa-42ff-c8ca-38dfb49708b1",
        "colab": {
          "base_uri": "https://localhost:8080/",
          "height": 3058
        }
      },
      "cell_type": "code",
      "source": [
        "from keras.callbacks import ModelCheckpoint  \n",
        "\n",
        "epochs = 10\n",
        "\n",
        "checkpointer = ModelCheckpoint(filepath=r'/content/Drive/My Drive/MachineLearningData/Kaggle_whale_tail/weights.best.from_scratch_sgd_ph4.hdf5', \n",
        "                               verbose=1, save_best_only=True)\n",
        "### TODO: specify the number of epochs that you would like to use to train the model.\n",
        "for i in range(0, 4):\n",
        "  print('Commencing phase :', i+1)\n",
        "  custom_model.fit(train_aug_img_final, train_dummy_final, \n",
        "            validation_data=(train_val_img_final, validation_dummy_final),\n",
        "            epochs=epochs, batch_size=25, callbacks=[checkpointer], verbose=1)\n",
        "  custom_model.load_weights(r'/content/Drive/My Drive/MachineLearningData/Kaggle_whale_tail/weights.best.from_scratch_sgd_ph4.hdf5')\n",
        "  print('Phase', i+1,' complete!')"
      ],
      "execution_count": 0,
      "outputs": [
        {
          "output_type": "stream",
          "text": [
            "Commencing phase : 1\n",
            "WARNING:tensorflow:From /usr/local/lib/python3.6/dist-packages/tensorflow/python/ops/math_ops.py:3066: to_int32 (from tensorflow.python.ops.math_ops) is deprecated and will be removed in a future version.\n",
            "Instructions for updating:\n",
            "Use tf.cast instead.\n",
            "Train on 17769 samples, validate on 3140 samples\n",
            "Epoch 1/10\n",
            "17769/17769 [==============================] - 201s 11ms/step - loss: 3.8148 - acc: 0.2867 - val_loss: 2.2377 - val_acc: 0.6080\n",
            "\n",
            "Epoch 00001: val_loss improved from inf to 2.23770, saving model to /content/Drive/My Drive/MachineLearningData/Kaggle_whale_tail/weights.best.from_scratch_sgd_ph4.hdf5\n",
            "Epoch 2/10\n",
            "17769/17769 [==============================] - 191s 11ms/step - loss: 3.6147 - acc: 0.3046 - val_loss: 2.2811 - val_acc: 0.5908\n",
            "\n",
            "Epoch 00002: val_loss did not improve from 2.23770\n",
            "Epoch 3/10\n",
            "17769/17769 [==============================] - 191s 11ms/step - loss: 3.4412 - acc: 0.3297 - val_loss: 2.3022 - val_acc: 0.5710\n",
            "\n",
            "Epoch 00003: val_loss did not improve from 2.23770\n",
            "Epoch 4/10\n",
            "17769/17769 [==============================] - 191s 11ms/step - loss: 3.2913 - acc: 0.3504 - val_loss: 2.3682 - val_acc: 0.5525\n",
            "\n",
            "Epoch 00004: val_loss did not improve from 2.23770\n",
            "Epoch 5/10\n",
            "17769/17769 [==============================] - 191s 11ms/step - loss: 3.1499 - acc: 0.3630 - val_loss: 2.4219 - val_acc: 0.5347\n",
            "\n",
            "Epoch 00005: val_loss did not improve from 2.23770\n",
            "Epoch 6/10\n",
            "17769/17769 [==============================] - 191s 11ms/step - loss: 2.9973 - acc: 0.3818 - val_loss: 2.4353 - val_acc: 0.5277\n",
            "\n",
            "Epoch 00006: val_loss did not improve from 2.23770\n",
            "Epoch 7/10\n",
            "17769/17769 [==============================] - 191s 11ms/step - loss: 2.8706 - acc: 0.4017 - val_loss: 2.4487 - val_acc: 0.5105\n",
            "\n",
            "Epoch 00007: val_loss did not improve from 2.23770\n",
            "Epoch 8/10\n",
            "17769/17769 [==============================] - 191s 11ms/step - loss: 2.7693 - acc: 0.4129 - val_loss: 2.5136 - val_acc: 0.4975\n",
            "\n",
            "Epoch 00008: val_loss did not improve from 2.23770\n",
            "Epoch 9/10\n",
            "17769/17769 [==============================] - 191s 11ms/step - loss: 2.6346 - acc: 0.4352 - val_loss: 2.5195 - val_acc: 0.4885\n",
            "\n",
            "Epoch 00009: val_loss did not improve from 2.23770\n",
            "Epoch 10/10\n",
            "17769/17769 [==============================] - 191s 11ms/step - loss: 2.5173 - acc: 0.4562 - val_loss: 2.5948 - val_acc: 0.4764\n",
            "\n",
            "Epoch 00010: val_loss did not improve from 2.23770\n",
            "Phase 1  complete!\n",
            "Commencing phase : 2\n",
            "Train on 17769 samples, validate on 3140 samples\n",
            "Epoch 1/10\n",
            "17769/17769 [==============================] - 192s 11ms/step - loss: 3.5943 - acc: 0.3115 - val_loss: 2.3090 - val_acc: 0.5838\n",
            "\n",
            "Epoch 00001: val_loss did not improve from 2.23770\n",
            "Epoch 2/10\n",
            "17769/17769 [==============================] - 192s 11ms/step - loss: 3.4271 - acc: 0.3285 - val_loss: 2.2821 - val_acc: 0.5713\n",
            "\n",
            "Epoch 00002: val_loss did not improve from 2.23770\n",
            "Epoch 3/10\n",
            "17769/17769 [==============================] - 191s 11ms/step - loss: 3.2719 - acc: 0.3479 - val_loss: 2.3677 - val_acc: 0.5500\n",
            "\n",
            "Epoch 00003: val_loss did not improve from 2.23770\n",
            "Epoch 4/10\n",
            "17769/17769 [==============================] - 191s 11ms/step - loss: 3.1429 - acc: 0.3644 - val_loss: 2.3795 - val_acc: 0.5417\n",
            "\n",
            "Epoch 00004: val_loss did not improve from 2.23770\n",
            "Epoch 5/10\n",
            "17769/17769 [==============================] - 191s 11ms/step - loss: 3.0141 - acc: 0.3765 - val_loss: 2.4163 - val_acc: 0.5328\n",
            "\n",
            "Epoch 00005: val_loss did not improve from 2.23770\n",
            "Epoch 6/10\n",
            "17769/17769 [==============================] - 191s 11ms/step - loss: 2.9045 - acc: 0.3939 - val_loss: 2.4704 - val_acc: 0.5102\n",
            "\n",
            "Epoch 00006: val_loss did not improve from 2.23770\n",
            "Epoch 7/10\n",
            "17769/17769 [==============================] - 191s 11ms/step - loss: 2.7586 - acc: 0.4148 - val_loss: 2.5041 - val_acc: 0.5054\n",
            "\n",
            "Epoch 00007: val_loss did not improve from 2.23770\n",
            "Epoch 8/10\n",
            "17769/17769 [==============================] - 191s 11ms/step - loss: 2.6410 - acc: 0.4387 - val_loss: 2.5115 - val_acc: 0.4984\n",
            "\n",
            "Epoch 00008: val_loss did not improve from 2.23770\n",
            "Epoch 9/10\n",
            "17769/17769 [==============================] - 191s 11ms/step - loss: 2.5462 - acc: 0.4479 - val_loss: 2.5927 - val_acc: 0.4787\n",
            "\n",
            "Epoch 00009: val_loss did not improve from 2.23770\n",
            "Epoch 10/10\n",
            "17769/17769 [==============================] - 191s 11ms/step - loss: 2.4556 - acc: 0.4614 - val_loss: 2.6261 - val_acc: 0.4666\n",
            "\n",
            "Epoch 00010: val_loss did not improve from 2.23770\n",
            "Phase 2  complete!\n",
            "Commencing phase : 3\n",
            "Train on 17769 samples, validate on 3140 samples\n",
            "Epoch 1/10\n",
            "17769/17769 [==============================] - 191s 11ms/step - loss: 3.6260 - acc: 0.3094 - val_loss: 2.2946 - val_acc: 0.5892\n",
            "\n",
            "Epoch 00001: val_loss did not improve from 2.23770\n",
            "Epoch 2/10\n",
            "17769/17769 [==============================] - 191s 11ms/step - loss: 3.4365 - acc: 0.3292 - val_loss: 2.3017 - val_acc: 0.5774\n",
            "\n",
            "Epoch 00002: val_loss did not improve from 2.23770\n",
            "Epoch 3/10\n",
            "17769/17769 [==============================] - 191s 11ms/step - loss: 3.2881 - acc: 0.3459 - val_loss: 2.3286 - val_acc: 0.5573\n",
            "\n",
            "Epoch 00003: val_loss did not improve from 2.23770\n",
            "Epoch 4/10\n",
            "17769/17769 [==============================] - 191s 11ms/step - loss: 3.1435 - acc: 0.3647 - val_loss: 2.3601 - val_acc: 0.5449\n",
            "\n",
            "Epoch 00004: val_loss did not improve from 2.23770\n",
            "Epoch 5/10\n",
            "17769/17769 [==============================] - 192s 11ms/step - loss: 3.0051 - acc: 0.3809 - val_loss: 2.3980 - val_acc: 0.5293\n",
            "\n",
            "Epoch 00005: val_loss did not improve from 2.23770\n",
            "Epoch 6/10\n",
            "17769/17769 [==============================] - 192s 11ms/step - loss: 2.8755 - acc: 0.3993 - val_loss: 2.4568 - val_acc: 0.5076\n",
            "\n",
            "Epoch 00006: val_loss did not improve from 2.23770\n",
            "Epoch 7/10\n",
            "17769/17769 [==============================] - 192s 11ms/step - loss: 2.7694 - acc: 0.4136 - val_loss: 2.4750 - val_acc: 0.4997\n",
            "\n",
            "Epoch 00007: val_loss did not improve from 2.23770\n",
            "Epoch 8/10\n",
            "17769/17769 [==============================] - 192s 11ms/step - loss: 2.6529 - acc: 0.4354 - val_loss: 2.5244 - val_acc: 0.4892\n",
            "\n",
            "Epoch 00008: val_loss did not improve from 2.23770\n",
            "Epoch 9/10\n",
            "17769/17769 [==============================] - 192s 11ms/step - loss: 2.5410 - acc: 0.4440 - val_loss: 2.5672 - val_acc: 0.4822\n",
            "\n",
            "Epoch 00009: val_loss did not improve from 2.23770\n",
            "Epoch 10/10\n",
            "17769/17769 [==============================] - 192s 11ms/step - loss: 2.4290 - acc: 0.4679 - val_loss: 2.5981 - val_acc: 0.4720\n",
            "\n",
            "Epoch 00010: val_loss did not improve from 2.23770\n",
            "Phase 3  complete!\n",
            "Commencing phase : 4\n",
            "Train on 17769 samples, validate on 3140 samples\n",
            "Epoch 1/10\n",
            "17769/17769 [==============================] - 191s 11ms/step - loss: 3.6009 - acc: 0.3112 - val_loss: 2.2607 - val_acc: 0.5917\n",
            "\n",
            "Epoch 00001: val_loss did not improve from 2.23770\n",
            "Epoch 2/10\n",
            "17769/17769 [==============================] - 191s 11ms/step - loss: 3.4369 - acc: 0.3304 - val_loss: 2.3307 - val_acc: 0.5713\n",
            "\n",
            "Epoch 00002: val_loss did not improve from 2.23770\n",
            "Epoch 3/10\n",
            "17769/17769 [==============================] - 191s 11ms/step - loss: 3.2777 - acc: 0.3512 - val_loss: 2.3326 - val_acc: 0.5573\n",
            "\n",
            "Epoch 00003: val_loss did not improve from 2.23770\n",
            "Epoch 4/10\n",
            "17769/17769 [==============================] - 191s 11ms/step - loss: 3.1381 - acc: 0.3670 - val_loss: 2.3456 - val_acc: 0.5439\n",
            "\n",
            "Epoch 00004: val_loss did not improve from 2.23770\n",
            "Epoch 5/10\n",
            "17769/17769 [==============================] - 191s 11ms/step - loss: 3.0170 - acc: 0.3842 - val_loss: 2.4196 - val_acc: 0.5245\n",
            "\n",
            "Epoch 00005: val_loss did not improve from 2.23770\n",
            "Epoch 6/10\n",
            "17769/17769 [==============================] - 191s 11ms/step - loss: 2.8925 - acc: 0.3975 - val_loss: 2.4328 - val_acc: 0.5178\n",
            "\n",
            "Epoch 00006: val_loss did not improve from 2.23770\n",
            "Epoch 7/10\n",
            "17769/17769 [==============================] - 191s 11ms/step - loss: 2.7730 - acc: 0.4099 - val_loss: 2.4606 - val_acc: 0.5045\n",
            "\n",
            "Epoch 00007: val_loss did not improve from 2.23770\n",
            "Epoch 8/10\n",
            "17769/17769 [==============================] - 191s 11ms/step - loss: 2.6623 - acc: 0.4280 - val_loss: 2.5475 - val_acc: 0.4885\n",
            "\n",
            "Epoch 00008: val_loss did not improve from 2.23770\n",
            "Epoch 9/10\n",
            "17769/17769 [==============================] - 191s 11ms/step - loss: 2.5422 - acc: 0.4494 - val_loss: 2.5719 - val_acc: 0.4806\n",
            "\n",
            "Epoch 00009: val_loss did not improve from 2.23770\n",
            "Epoch 10/10\n",
            "17769/17769 [==============================] - 191s 11ms/step - loss: 2.4428 - acc: 0.4664 - val_loss: 2.5764 - val_acc: 0.4758\n",
            "\n",
            "Epoch 00010: val_loss did not improve from 2.23770\n",
            "Phase 4  complete!\n"
          ],
          "name": "stdout"
        }
      ]
    },
    {
      "metadata": {
        "id": "VY8MN8z2eBGA",
        "colab_type": "code",
        "outputId": "fe15b4b3-e9fb-4c0d-cf19-298104a55542",
        "colab": {
          "base_uri": "https://localhost:8080/",
          "height": 34
        }
      },
      "cell_type": "code",
      "source": [
        "custom_model.load_weights(r'/content/Drive/My Drive/MachineLearningData/Kaggle_whale_tail/weights.best.from_scratch_sgd_ph5.hdf5')\n",
        "\n",
        "VGG16_predictions = [np.argmax(custom_model.predict(np.expand_dims(feature, axis=0))) for feature in train_val_img_final]\n",
        "test_accuracy = 100*np.sum(np.array(VGG16_predictions) == np.argmax(validation_dummy_final, axis=1))/len(VGG16_predictions)\n",
        "print('Accuracy: %.4f%%' % test_accuracy)"
      ],
      "execution_count": 0,
      "outputs": [
        {
          "output_type": "stream",
          "text": [
            "Accuracy: 60.7962%\n"
          ],
          "name": "stdout"
        }
      ]
    },
    {
      "metadata": {
        "id": "E9-EnXVqkU2g",
        "colab_type": "code",
        "outputId": "7ca7d053-7ab9-460e-8c36-85e2298bdd62",
        "colab": {
          "base_uri": "https://localhost:8080/",
          "height": 54
        }
      },
      "cell_type": "code",
      "source": [
        "VGG16_predictions = [np.asarray(custom_model.predict(np.expand_dims(feature, axis=0)))[0].argsort()[-5:][::-1] for feature in train_val_img_final]\n",
        "print('Accuracy on taking first 5 best suggestions based on the softmax function :', sum([y in x for x, y in zip(VGG16_predictions, np.argmax(validation_dummy_final, axis =1 ))])/len(VGG16_predictions)*100)"
      ],
      "execution_count": 0,
      "outputs": [
        {
          "output_type": "stream",
          "text": [
            "Accuracy on taking first 5 best suggestions based on the softmax function : 78.0891719745223\n"
          ],
          "name": "stdout"
        }
      ]
    }
  ]
}